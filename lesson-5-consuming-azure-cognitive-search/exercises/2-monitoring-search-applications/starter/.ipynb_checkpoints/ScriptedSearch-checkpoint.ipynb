{
 "cells": [
  {
   "cell_type": "code",
   "execution_count": null,
   "metadata": {},
   "outputs": [],
   "source": [
    "import requests\n",
    "from threading import Thread \n",
    "\n",
    "def call_acs(i):\n",
    "    url = '<insert query>'\n",
    "    custom_header = {'api-key': '<insert key>'}\n",
    "    response = requests.get(url, headers = custom_header)\n",
    "    print(\"response\" + str(i) + response.text[0:300])\n",
    "\n",
    "for i in range(50):\n",
    "    t = Thread(target = call_acs, args=(i,))\n",
    "    t.start()\n",
    "    \n",
    "print(\"done making calls\")\n"
   ]
  },
  {
   "cell_type": "code",
   "execution_count": null,
   "metadata": {},
   "outputs": [],
   "source": []
  }
 ],
 "metadata": {
  "kernelspec": {
   "display_name": "Python 3",
   "language": "python",
   "name": "python3"
  },
  "language_info": {
   "codemirror_mode": {
    "name": "ipython",
    "version": 3
   },
   "file_extension": ".py",
   "mimetype": "text/x-python",
   "name": "python",
   "nbconvert_exporter": "python",
   "pygments_lexer": "ipython3",
   "version": "3.8.8"
  }
 },
 "nbformat": 4,
 "nbformat_minor": 4
}
