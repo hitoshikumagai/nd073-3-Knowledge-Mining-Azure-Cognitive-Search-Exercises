{
 "cells": [
  {
   "cell_type": "code",
   "execution_count": 2,
   "metadata": {},
   "outputs": [
    {
     "name": "stdout",
     "output_type": "stream",
     "text": [
      "done making calls\n",
      "response45{\"@odata.context\":\"https://mattscognitivesearch.search.windows.net/indexes('realestate-us-sample-index')/$metadata#docs(*)\",\"value\":[{\"@search.score\":1.0,\"listingId\":\"OTM4MjI2NQ2\",\"beds\":5,\"baths\":4,\"description\":\"This is a apartment residence and is perfect for entertaining.  This home provides lakresponse37{\"@odata.context\":\"https://mattscognitivesearch.search.windows.net/indexes('realestate-us-sample-index')/$metadata#docs(*)\",\"value\":[{\"@search.score\":1.0,\"listingId\":\"OTM4MjI2NQ2\",\"beds\":5,\"baths\":4,\"description\":\"This is a apartment residence and is perfect for entertaining.  This home provides lak\n",
      "\n",
      "response48{\"@odata.context\":\"https://mattscognitivesearch.search.windows.net/indexes('realestate-us-sample-index')/$metadata#docs(*)\",\"value\":[{\"@search.score\":1.0,\"listingId\":\"OTM4MjI2NQ2\",\"beds\":5,\"baths\":4,\"description\":\"This is a apartment residence and is perfect for entertaining.  This home provides lak\n",
      "response27{\"@odata.context\":\"https://mattscognitivesearch.search.windows.net/indexes('realestate-us-sample-index')/$metadata#docs(*)\",\"value\":[{\"@search.score\":1.0,\"listingId\":\"OTM4MjI2NQ2\",\"beds\":5,\"baths\":4,\"description\":\"This is a apartment residence and is perfect for entertaining.  This home provides lak\n",
      "response24{\"@odata.context\":\"https://mattscognitivesearch.search.windows.net/indexes('realestate-us-sample-index')/$metadata#docs(*)\",\"value\":[{\"@search.score\":1.0,\"listingId\":\"OTM4MjI2NQ2\",\"beds\":5,\"baths\":4,\"description\":\"This is a apartment residence and is perfect for entertaining.  This home provides lak\n",
      "response43{\"@odata.context\":\"https://mattscognitivesearch.search.windows.net/indexes('realestate-us-sample-index')/$metadata#docs(*)\",\"value\":[{\"@search.score\":1.0,\"listingId\":\"OTM4MjI2NQ2\",\"beds\":5,\"baths\":4,\"description\":\"This is a apartment residence and is perfect for entertaining.  This home provides lak\n",
      "response20{\"@odata.context\":\"https://mattscognitivesearch.search.windows.net/indexes('realestate-us-sample-index')/$metadata#docs(*)\",\"value\":[{\"@search.score\":1.0,\"listingId\":\"OTM4MjI2NQ2\",\"beds\":5,\"baths\":4,\"description\":\"This is a apartment residence and is perfect for entertaining.  This home provides lak\n",
      "response25{\"@odata.context\":\"https://mattscognitivesearch.search.windows.net/indexes('realestate-us-sample-index')/$metadata#docs(*)\",\"value\":[{\"@search.score\":1.0,\"listingId\":\"OTM4MjI2NQ2\",\"beds\":5,\"baths\":4,\"description\":\"This is a apartment residence and is perfect for entertaining.  This home provides lak\n",
      "response9{\"@odata.context\":\"https://mattscognitivesearch.search.windows.net/indexes('realestate-us-sample-index')/$metadata#docs(*)\",\"value\":[{\"@search.score\":1.0,\"listingId\":\"OTM4MjI2NQ2\",\"beds\":5,\"baths\":4,\"description\":\"This is a apartment residence and is perfect for entertaining.  This home provides lak\n",
      "response19{\"@odata.context\":\"https://mattscognitivesearch.search.windows.net/indexes('realestate-us-sample-index')/$metadata#docs(*)\",\"value\":[{\"@search.score\":1.0,\"listingId\":\"OTM4MjI2NQ2\",\"beds\":5,\"baths\":4,\"description\":\"This is a apartment residence and is perfect for entertaining.  This home provides lak\n",
      "response5{\"@odata.context\":\"https://mattscognitivesearch.search.windows.net/indexes('realestate-us-sample-index')/$metadata#docs(*)\",\"value\":[{\"@search.score\":1.0,\"listingId\":\"OTM4MjI2NQ2\",\"beds\":5,\"baths\":4,\"description\":\"This is a apartment residence and is perfect for entertaining.  This home provides lak\n",
      "response16{\"@odata.context\":\"https://mattscognitivesearch.search.windows.net/indexes('realestate-us-sample-index')/$metadata#docs(*)\",\"value\":[{\"@search.score\":1.0,\"listingId\":\"OTM4MjI2NQ2\",\"beds\":5,\"baths\":4,\"description\":\"This is a apartment residence and is perfect for entertaining.  This home provides lak\n",
      "response18{\"@odata.context\":\"https://mattscognitivesearch.search.windows.net/indexes('realestate-us-sample-index')/$metadata#docs(*)\",\"value\":[{\"@search.score\":1.0,\"listingId\":\"OTM4MjI2NQ2\",\"beds\":5,\"baths\":4,\"description\":\"This is a apartment residence and is perfect for entertaining.  This home provides lak\n",
      "response10{\"@odata.context\":\"https://mattscognitivesearch.search.windows.net/indexes('realestate-us-sample-index')/$metadata#docs(*)\",\"value\":[{\"@search.score\":1.0,\"listingId\":\"OTM4MjI2NQ2\",\"beds\":5,\"baths\":4,\"description\":\"This is a apartment residence and is perfect for entertaining.  This home provides lak\n",
      "response46{\"@odata.context\":\"https://mattscognitivesearch.search.windows.net/indexes('realestate-us-sample-index')/$metadata#docs(*)\",\"value\":[{\"@search.score\":1.0,\"listingId\":\"OTM4MjI2NQ2\",\"beds\":5,\"baths\":4,\"description\":\"This is a apartment residence and is perfect for entertaining.  This home provides lak\n",
      "response7{\"@odata.context\":\"https://mattscognitivesearch.search.windows.net/indexes('realestate-us-sample-index')/$metadata#docs(*)\",\"value\":[{\"@search.score\":1.0,\"listingId\":\"OTM4MjI2NQ2\",\"beds\":5,\"baths\":4,\"description\":\"This is a apartment residence and is perfect for entertaining.  This home provides lak\n",
      "response35{\"@odata.context\":\"https://mattscognitivesearch.search.windows.net/indexes('realestate-us-sample-index')/$metadata#docs(*)\",\"value\":[{\"@search.score\":1.0,\"listingId\":\"OTM4MjI2NQ2\",\"beds\":5,\"baths\":4,\"description\":\"This is a apartment residence and is perfect for entertaining.  This home provides lak\n",
      "response12{\"@odata.context\":\"https://mattscognitivesearch.search.windows.net/indexes('realestate-us-sample-index')/$metadata#docs(*)\",\"value\":[{\"@search.score\":1.0,\"listingId\":\"OTM4MjI2NQ2\",\"beds\":5,\"baths\":4,\"description\":\"This is a apartment residence and is perfect for entertaining.  This home provides lak\n",
      "response23{\"@odata.context\":\"https://mattscognitivesearch.search.windows.net/indexes('realestate-us-sample-index')/$metadata#docs(*)\",\"value\":[{\"@search.score\":1.0,\"listingId\":\"OTM4MjI2NQ2\",\"beds\":5,\"baths\":4,\"description\":\"This is a apartment residence and is perfect for entertaining.  This home provides lak\n",
      "response38{\"@odata.context\":\"https://mattscognitivesearch.search.windows.net/indexes('realestate-us-sample-index')/$metadata#docs(*)\",\"value\":[{\"@search.score\":1.0,\"listingId\":\"OTM4MjI2NQ2\",\"beds\":5,\"baths\":4,\"description\":\"This is a apartment residence and is perfect for entertaining.  This home provides lak\n",
      "response47{\"@odata.context\":\"https://mattscognitivesearch.search.windows.net/indexes('realestate-us-sample-index')/$metadata#docs(*)\",\"value\":[{\"@search.score\":1.0,\"listingId\":\"OTM4MjI2NQ2\",\"beds\":5,\"baths\":4,\"description\":\"This is a apartment residence and is perfect for entertaining.  This home provides lak\n",
      "response44{\"@odata.context\":\"https://mattscognitivesearch.search.windows.net/indexes('realestate-us-sample-index')/$metadata#docs(*)\",\"value\":[{\"@search.score\":1.0,\"listingId\":\"OTM4MjI2NQ2\",\"beds\":5,\"baths\":4,\"description\":\"This is a apartment residence and is perfect for entertaining.  This home provides lakresponse17{\"@odata.context\":\"https://mattscognitivesearch.search.windows.net/indexes('realestate-us-sample-index')/$metadata#docs(*)\",\"value\":[{\"@search.score\":1.0,\"listingId\":\"OTM4MjI2NQ2\",\"beds\":5,\"baths\":4,\"description\":\"This is a apartment residence and is perfect for entertaining.  This home provides lak\n",
      "response22{\"@odata.context\":\"https://mattscognitivesearch.search.windows.net/indexes('realestate-us-sample-index')/$metadata#docs(*)\",\"value\":[{\"@search.score\":1.0,\"listingId\":\"OTM4MjI2NQ2\",\"beds\":5,\"baths\":4,\"description\":\"This is a apartment residence and is perfect for entertaining.  This home provides lak\n",
      "\n",
      "response2{\"@odata.context\":\"https://mattscognitivesearch.search.windows.net/indexes('realestate-us-sample-index')/$metadata#docs(*)\",\"value\":[{\"@search.score\":1.0,\"listingId\":\"OTM4MjI2NQ2\",\"beds\":5,\"baths\":4,\"description\":\"This is a apartment residence and is perfect for entertaining.  This home provides lakresponse4{\"@odata.context\":\"https://mattscognitivesearch.search.windows.net/indexes('realestate-us-sample-index')/$metadata#docs(*)\",\"value\":[{\"@search.score\":1.0,\"listingId\":\"OTM4MjI2NQ2\",\"beds\":5,\"baths\":4,\"description\":\"This is a apartment residence and is perfect for entertaining.  This home provides lak\n",
      "\n",
      "response26{\"@odata.context\":\"https://mattscognitivesearch.search.windows.net/indexes('realestate-us-sample-index')/$metadata#docs(*)\",\"value\":[{\"@search.score\":1.0,\"listingId\":\"OTM4MjI2NQ2\",\"beds\":5,\"baths\":4,\"description\":\"This is a apartment residence and is perfect for entertaining.  This home provides lak\n",
      "response31{\"@odata.context\":\"https://mattscognitivesearch.search.windows.net/indexes('realestate-us-sample-index')/$metadata#docs(*)\",\"value\":[{\"@search.score\":1.0,\"listingId\":\"OTM4MjI2NQ2\",\"beds\":5,\"baths\":4,\"description\":\"This is a apartment residence and is perfect for entertaining.  This home provides lak\n",
      "response11{\"@odata.context\":\"https://mattscognitivesearch.search.windows.net/indexes('realestate-us-sample-index')/$metadata#docs(*)\",\"value\":[{\"@search.score\":1.0,\"listingId\":\"OTM4MjI2NQ2\",\"beds\":5,\"baths\":4,\"description\":\"This is a apartment residence and is perfect for entertaining.  This home provides lak\n",
      "response34{\"@odata.context\":\"https://mattscognitivesearch.search.windows.net/indexes('realestate-us-sample-index')/$metadata#docs(*)\",\"value\":[{\"@search.score\":1.0,\"listingId\":\"OTM4MjI2NQ2\",\"beds\":5,\"baths\":4,\"description\":\"This is a apartment residence and is perfect for entertaining.  This home provides lakresponse28{\"@odata.context\":\"https://mattscognitivesearch.search.windows.net/indexes('realestate-us-sample-index')/$metadata#docs(*)\",\"value\":[{\"@search.score\":1.0,\"listingId\":\"OTM4MjI2NQ2\",\"beds\":5,\"baths\":4,\"description\":\"This is a apartment residence and is perfect for entertaining.  This home provides lak\n",
      "\n",
      "response21{\"@odata.context\":\"https://mattscognitivesearch.search.windows.net/indexes('realestate-us-sample-index')/$metadata#docs(*)\",\"value\":[{\"@search.score\":1.0,\"listingId\":\"OTM4MjI2NQ2\",\"beds\":5,\"baths\":4,\"description\":\"This is a apartment residence and is perfect for entertaining.  This home provides lak\n",
      "response40{\"@odata.context\":\"https://mattscognitivesearch.search.windows.net/indexes('realestate-us-sample-index')/$metadata#docs(*)\",\"value\":[{\"@search.score\":1.0,\"listingId\":\"OTM4MjI2NQ2\",\"beds\":5,\"baths\":4,\"description\":\"This is a apartment residence and is perfect for entertaining.  This home provides lak\n",
      "response29{\"@odata.context\":\"https://mattscognitivesearch.search.windows.net/indexes('realestate-us-sample-index')/$metadata#docs(*)\",\"value\":[{\"@search.score\":1.0,\"listingId\":\"OTM4MjI2NQ2\",\"beds\":5,\"baths\":4,\"description\":\"This is a apartment residence and is perfect for entertaining.  This home provides lak\n",
      "response0{\"@odata.context\":\"https://mattscognitivesearch.search.windows.net/indexes('realestate-us-sample-index')/$metadata#docs(*)\",\"value\":[{\"@search.score\":1.0,\"listingId\":\"OTM4MjI2NQ2\",\"beds\":5,\"baths\":4,\"description\":\"This is a apartment residence and is perfect for entertaining.  This home provides lakresponse49{\"@odata.context\":\"https://mattscognitivesearch.search.windows.net/indexes('realestate-us-sample-index')/$metadata#docs(*)\",\"value\":[{\"@search.score\":1.0,\"listingId\":\"OTM4MjI2NQ2\",\"beds\":5,\"baths\":4,\"description\":\"This is a apartment residence and is perfect for entertaining.  This home provides lakresponse8{\"@odata.context\":\"https://mattscognitivesearch.search.windows.net/indexes('realestate-us-sample-index')/$metadata#docs(*)\",\"value\":[{\"@search.score\":1.0,\"listingId\":\"OTM4MjI2NQ2\",\"beds\":5,\"baths\":4,\"description\":\"This is a apartment residence and is perfect for entertaining.  This home provides lak\n",
      "\n",
      "\n",
      "response30{\"@odata.context\":\"https://mattscognitivesearch.search.windows.net/indexes('realestate-us-sample-index')/$metadata#docs(*)\",\"value\":[{\"@search.score\":1.0,\"listingId\":\"OTM4MjI2NQ2\",\"beds\":5,\"baths\":4,\"description\":\"This is a apartment residence and is perfect for entertaining.  This home provides lak\n",
      "response36{\"@odata.context\":\"https://mattscognitivesearch.search.windows.net/indexes('realestate-us-sample-index')/$metadata#docs(*)\",\"value\":[{\"@search.score\":1.0,\"listingId\":\"OTM4MjI2NQ2\",\"beds\":5,\"baths\":4,\"description\":\"This is a apartment residence and is perfect for entertaining.  This home provides lakresponse42{\"@odata.context\":\"https://mattscognitivesearch.search.windows.net/indexes('realestate-us-sample-index')/$metadata#docs(*)\",\"value\":[{\"@search.score\":1.0,\"listingId\":\"OTM4MjI2NQ2\",\"beds\":5,\"baths\":4,\"description\":\"This is a apartment residence and is perfect for entertaining.  This home provides lak\n",
      "response1{\"@odata.context\":\"https://mattscognitivesearch.search.windows.net/indexes('realestate-us-sample-index')/$metadata#docs(*)\",\"value\":[{\"@search.score\":1.0,\"listingId\":\"OTM4MjI2NQ2\",\"beds\":5,\"baths\":4,\"description\":\"This is a apartment residence and is perfect for entertaining.  This home provides lak\n",
      "response15{\"@odata.context\":\"https://mattscognitivesearch.search.windows.net/indexes('realestate-us-sample-index')/$metadata#docs(*)\",\"value\":[{\"@search.score\":1.0,\"listingId\":\"OTM4MjI2NQ2\",\"beds\":5,\"baths\":4,\"description\":\"This is a apartment residence and is perfect for entertaining.  This home provides lak\n",
      "\n",
      "response6{\"@odata.context\":\"https://mattscognitivesearch.search.windows.net/indexes('realestate-us-sample-index')/$metadata#docs(*)\",\"value\":[{\"@search.score\":1.0,\"listingId\":\"OTM4MjI2NQ2\",\"beds\":5,\"baths\":4,\"description\":\"This is a apartment residence and is perfect for entertaining.  This home provides lakresponse33{\"@odata.context\":\"https://mattscognitivesearch.search.windows.net/indexes('realestate-us-sample-index')/$metadata#docs(*)\",\"value\":[{\"@search.score\":1.0,\"listingId\":\"OTM4MjI2NQ2\",\"beds\":5,\"baths\":4,\"description\":\"This is a apartment residence and is perfect for entertaining.  This home provides lak\n",
      "\n",
      "response3{\"@odata.context\":\"https://mattscognitivesearch.search.windows.net/indexes('realestate-us-sample-index')/$metadata#docs(*)\",\"value\":[{\"@search.score\":1.0,\"listingId\":\"OTM4MjI2NQ2\",\"beds\":5,\"baths\":4,\"description\":\"This is a apartment residence and is perfect for entertaining.  This home provides lakresponse14{\"@odata.context\":\"https://mattscognitivesearch.search.windows.net/indexes('realestate-us-sample-index')/$metadata#docs(*)\",\"value\":[{\"@search.score\":1.0,\"listingId\":\"OTM4MjI2NQ2\",\"beds\":5,\"baths\":4,\"description\":\"This is a apartment residence and is perfect for entertaining.  This home provides lak\n",
      "response39{\"@odata.context\":\"https://mattscognitivesearch.search.windows.net/indexes('realestate-us-sample-index')/$metadata#docs(*)\",\"value\":[{\"@search.score\":1.0,\"listingId\":\"OTM4MjI2NQ2\",\"beds\":5,\"baths\":4,\"description\":\"This is a apartment residence and is perfect for entertaining.  This home provides lak\n",
      "\n",
      "response41{\"@odata.context\":\"https://mattscognitivesearch.search.windows.net/indexes('realestate-us-sample-index')/$metadata#docs(*)\",\"value\":[{\"@search.score\":1.0,\"listingId\":\"OTM4MjI2NQ2\",\"beds\":5,\"baths\":4,\"description\":\"This is a apartment residence and is perfect for entertaining.  This home provides lakresponse13{\"@odata.context\":\"https://mattscognitivesearch.search.windows.net/indexes('realestate-us-sample-index')/$metadata#docs(*)\",\"value\":[{\"@search.score\":1.0,\"listingId\":\"OTM4MjI2NQ2\",\"beds\":5,\"baths\":4,\"description\":\"This is a apartment residence and is perfect for entertaining.  This home provides lak\n",
      "\n",
      "response32{\"@odata.context\":\"https://mattscognitivesearch.search.windows.net/indexes('realestate-us-sample-index')/$metadata#docs(*)\",\"value\":[{\"@search.score\":1.0,\"listingId\":\"OTM4MjI2NQ2\",\"beds\":5,\"baths\":4,\"description\":\"This is a apartment residence and is perfect for entertaining.  This home provides lak\n"
     ]
    }
   ],
   "source": [
    "import requests\n",
    "from threading import Thread \n",
    "\n",
    "def call_acs(i):\n",
    "    url = 'https://mattscognitivesearch.search.windows.net/indexes/realestate-us-sample-index/docs?api-version=2020-06-30-Preview&search=*'\n",
    "    custom_header = {'api-key': '5E91A5C67A28F1F2341776A4E593AB9F'}\n",
    "    response = requests.get(url, headers = custom_header)\n",
    "    print(\"response\" + str(i) + response.text[0:300])\n",
    "\n",
    "for i in range(50):\n",
    "    t = Thread(target = call_acs, args=(i,))\n",
    "    t.start()\n",
    "    \n",
    "print(\"done making calls\")\n"
   ]
  },
  {
   "cell_type": "code",
   "execution_count": null,
   "metadata": {},
   "outputs": [],
   "source": []
  }
 ],
 "metadata": {
  "kernelspec": {
   "display_name": "Python 3",
   "language": "python",
   "name": "python3"
  },
  "language_info": {
   "codemirror_mode": {
    "name": "ipython",
    "version": 3
   },
   "file_extension": ".py",
   "mimetype": "text/x-python",
   "name": "python",
   "nbconvert_exporter": "python",
   "pygments_lexer": "ipython3",
   "version": "3.8.8"
  }
 },
 "nbformat": 4,
 "nbformat_minor": 4
}
